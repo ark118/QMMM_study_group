{
 "cells": [
  {
   "cell_type": "markdown",
   "metadata": {
    "slideshow": {
     "slide_type": "slide"
    }
   },
   "source": [
    "# Introduction Notebook\n",
    "\n",
    "Here we will cover common python libraries.\n",
    "\n",
    "1. [Numpy](#numpy) \n",
    "\n",
    "2. [Scipy](#scipy) \n",
    "\n",
    "3. [Matplotlib](#matplotlib) \n",
    "\n",
    "4. [PySCF](#pyscf)\n",
    "\n",
    "5. [Psi4](#psi4)"
   ]
  },
  {
   "cell_type": "markdown",
   "metadata": {},
   "source": [
    "### Extra Practice\n",
    "For a more hands-on introduction notebook, check out the notebook at [this link](https://github.com/amandadumi/numerical_methods_release). Click the 'launch binder' badge. This will take you to a web-hosted Jupyter notebook set on Binder. Navigate to `IPython_notebooks/01_Introduction` and click on the 01_Introduction.ipynb to launch it in the browser. You are also welcome to clone the repository and run the notebook locally."
   ]
  },
  {
   "cell_type": "markdown",
   "metadata": {
    "slideshow": {
     "slide_type": "slide"
    }
   },
   "source": [
    "<a id='numpy'></a>\n",
    "## Numpy\n",
    "Fundamental package for scientific computing with Python"
   ]
  },
  {
   "cell_type": "code",
   "execution_count": 1,
   "metadata": {
    "slideshow": {
     "slide_type": "subslide"
    }
   },
   "outputs": [
    {
     "name": "stdout",
     "output_type": "stream",
     "text": [
      "211\n"
     ]
    }
   ],
   "source": [
    "import numpy as np\n",
    "\n",
    "a = np.array((4, 5, 6, 6, 7, 8))\n",
    "b = np.array((8, 9, 2, 4, 6, 7))\n",
    "\n",
    "c = np.dot(a, b)\n",
    "print(c)"
   ]
  },
  {
   "cell_type": "markdown",
   "metadata": {
    "slideshow": {
     "slide_type": "slide"
    }
   },
   "source": [
    "<a id='scipy'></a>\n",
    "## Scipy\n",
    "\n",
    "Provides many user-friendly and efficient numerical routines such as routines for numerical integration and optimization"
   ]
  },
  {
   "cell_type": "code",
   "execution_count": 4,
   "metadata": {
    "scrolled": true,
    "slideshow": {
     "slide_type": "subslide"
    }
   },
   "outputs": [
    {
     "name": "stdout",
     "output_type": "stream",
     "text": [
      "eigenvalues:\n",
      " [ 2.68771536+0.j        -0.54908778+0.2958983j -0.54908778-0.2958983j\n",
      "  0.32229053+0.j         0.85236499+0.j       ]\n",
      "\n",
      "eigenvectors:\n",
      " [[ 0.31648977+0.j          0.02926232-0.33583633j  0.02926232+0.33583633j\n",
      "   0.55134512+0.j          0.39008328+0.j        ]\n",
      " [ 0.54212831+0.j          0.75478590+0.j          0.75478590-0.j\n",
      "  -0.50623784+0.j         -0.13525105+0.j        ]\n",
      " [ 0.39076046+0.j         -0.07683716+0.36287685j -0.07683716-0.36287685j\n",
      "   0.46246599+0.j         -0.01208159+0.j        ]\n",
      " [ 0.41321927+0.j         -0.14766303+0.10881037j -0.14766303-0.10881037j\n",
      "  -0.42140591+0.j          0.53250464+0.j        ]\n",
      " [ 0.53149526+0.j         -0.35636987-0.13575277j -0.35636987+0.13575277j\n",
      "  -0.21973636+0.j         -0.73880649+0.j        ]]\n"
     ]
    }
   ],
   "source": [
    "import scipy as sp\n",
    "import scipy.linalg as la\n",
    "\n",
    "mat = np.random.rand(5, 5)\n",
    "eig_val, eig_vec = la.eig(mat)\n",
    "\n",
    "print('eigenvalues:\\n {}\\n'.format(eig_val))\n",
    "print('eigenvectors:\\n {}'.format(eig_vec))"
   ]
  },
  {
   "cell_type": "markdown",
   "metadata": {
    "collapsed": true,
    "slideshow": {
     "slide_type": "slide"
    }
   },
   "source": [
    "## Matplotlib\n",
    "\n",
    "Python library for 2- and 3-D visualization.\n",
    "\n",
    "Pyplot provides convenient functions to generate plots."
   ]
  },
  {
   "cell_type": "code",
   "execution_count": 5,
   "metadata": {
    "slideshow": {
     "slide_type": "slide"
    }
   },
   "outputs": [
    {
     "data": {
      "image/png": "[encoded data removed]",
      "text/plain": [
       "<matplotlib.figure.Figure at 0x10d6e9898>"
      ]
     },
     "metadata": {},
     "output_type": "display_data"
    }
   ],
   "source": [
    "import matplotlib.pyplot as plt\n",
    "\n",
    "x = np.linspace(0, 5, 100)\n",
    "y = np.sin(x)\n",
    "plt.plot(x, y)\n",
    "plt.show()"
   ]
  },
  {
   "cell_type": "code",
   "execution_count": null,
   "metadata": {
    "collapsed": true
   },
   "outputs": [],
   "source": []
  },
  {
   "cell_type": "markdown",
   "metadata": {
    "slideshow": {
     "slide_type": "slide"
    }
   },
   "source": [
    "## Psi4Numpy\n",
    "\n",
    "Psi4 is an open source quantum chemistry package.\n",
    "\n",
    "Recently introduced [Psi4Numpy](https://github.com/psi4/psi4numpy), a collections of notebooks for teaching quantum chemistry. \n",
    "\n"
   ]
  },
  {
   "cell_type": "markdown",
   "metadata": {
    "slideshow": {
     "slide_type": "subslide"
    }
   },
   "source": [
    "The cell below runs an SCF cyle for water with the cc-pvdz basis using Psi4Numpy\n"
   ]
  },
  {
   "cell_type": "code",
   "execution_count": 1,
   "metadata": {
    "slideshow": {
     "slide_type": "subslide"
    }
   },
   "outputs": [
    {
     "name": "stdout",
     "output_type": "stream",
     "text": [
      "converged SCF energy: -76.02677730715598\n"
     ]
    }
   ],
   "source": [
    "import psi4\n",
    "\n",
    "# read in geometry for water\n",
    "h2o = psi4.geometry(\"\"\"\n",
    "O  0.0000000  0.0000000  0.0000000\n",
    "H  0.7569685  0.0000000 -0.5858752\n",
    "H -0.7569685 0.0000000  -0.5858752\n",
    "\"\"\")\n",
    "\n",
    "# set basis set\n",
    "psi4.set_options({'basis': 'cc-pvdz'})\n",
    "\n",
    "# run an scf calculation\n",
    "scf_e, scf_wfn = psi4.energy('scf', return_wfn=True)\n",
    "print('converged SCF energy: {}'.format(scf_e))"
   ]
  },
  {
   "cell_type": "markdown",
   "metadata": {
    "slideshow": {
     "slide_type": "slide"
    }
   },
   "source": [
    "## PySCF\n",
    "\n",
    "Python-based quantum simulations"
   ]
  },
  {
   "cell_type": "markdown",
   "metadata": {
    "slideshow": {
     "slide_type": "slide"
    }
   },
   "source": [
    "The cell below runs an SCF cycle for water with the cc-pvdz basis using PySCF"
   ]
  },
  {
   "cell_type": "code",
   "execution_count": 2,
   "metadata": {
    "slideshow": {
     "slide_type": "subslide"
    }
   },
   "outputs": [
    {
     "name": "stdout",
     "output_type": "stream",
     "text": [
      "converged SCF energy = -74.9629290744663\n"
     ]
    },
    {
     "data": {
      "text/plain": [
       "-74.9629290744663"
      ]
     },
     "execution_count": 2,
     "metadata": {},
     "output_type": "execute_result"
    }
   ],
   "source": [
    "from pyscf import gto, scf\n",
    "\n",
    "# read in geometry\n",
    "mol = gto.M(atom='O  0.0000000  0.0000000  0.0000000; H  0.7569685  0.0000000 -0.5858752; H -0.7569685 0.0000000  -0.5858752')\n",
    "mol.basis = 'ccpvdz'\n",
    "# run  an scf calculation\n",
    "mol_scf = scf.RHF(mol)\n",
    "mol_scf.kernel()"
   ]
  },
  {
   "cell_type": "code",
   "execution_count": null,
   "metadata": {
    "collapsed": true,
    "slideshow": {
     "slide_type": "-"
    }
   },
   "outputs": [],
   "source": []
  }
 ],
 "metadata": {
  "celltoolbar": "Slideshow",
  "kernelspec": {
   "display_name": "Python 3",
   "language": "python",
   "name": "python3"
  },
  "language_info": {
   "codemirror_mode": {
    "name": "ipython",
    "version": 3
   },
   "file_extension": ".py",
   "mimetype": "text/x-python",
   "name": "python",
   "nbconvert_exporter": "python",
   "pygments_lexer": "ipython3",
   "version": "3.6.6"
  }
 },
 "nbformat": 4,
 "nbformat_minor": 2
}
