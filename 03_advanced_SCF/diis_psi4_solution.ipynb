{
 "cells": [
  {
   "cell_type": "markdown",
   "metadata": {},
   "source": [
    "# Direct Inversion of Iterative Subspace"
   ]
  },
  {
   "cell_type": "code",
   "execution_count": 1,
   "metadata": {},
   "outputs": [],
   "source": [
    "import numpy as np\n",
    "import scipy.linalg as spla\n",
    "import psi4\n",
    "import time"
   ]
  },
  {
   "cell_type": "markdown",
   "metadata": {},
   "source": [
    "## Useful Resources\n",
    "- [P. Pulay. Chem. Phys. Lett. 73, 393-398 (1980)](https://www.sciencedirect.com/science/article/pii/0009261480803964)\n",
    "- [DIIS by C. David Sherril](http://vergil.chemistry.gatech.edu/notes/diis/diis.pdf)\n",
    "- [DePrince Research Group DIIS Tutorial](https://www.chem.fsu.edu/~deprince/programming_projects/diis/)\n",
    "- [Psi4Numpy DIIS Tutorial](https://github.com/psi4/psi4numpy/blob/master/Tutorials/03_Hartree-Fock/3b_rhf-diis.ipynb)\n",
    "- [DIIS by MolSSI-Education](https://github.com/MolSSI-Education/QM_2017_SSS_Team8/blob/master/Tutorial_PDFs/02_SCF_DIIS.pdf)"
   ]
  },
  {
   "cell_type": "markdown",
   "metadata": {},
   "source": [
    "## Introduction\n",
    "Iterative methods are usually used in order to solve systems of linear equations. These methods can suffer from numerous convergence issues such as slow convergence and high computational cost. Today we are going to work with DIIS to accelerate our convergence. DIIS stands for Direct Inversion of Iterative Subspace and is commonly used to aid in the convergence of SCF wavefunctions. Today we will build off of our previous example of a simple RHF.\n",
    "\n",
    "## General Theory\n",
    "During the iterative solution we generate a set of trial vectors $p^{i}$ that are converging to the true solution $p^{f}$. This allows for us to form a set of residual vectors\n",
    "$$\n",
    "\\Delta \\mathbf{p} = \\mathbf{p}^{i+1} - \\mathbf{p}^{i}\n",
    "$$\n",
    "\n",
    "DIIS assumes that the true solution can be approximated as a linear combination of the previous trial vector guesses, \n",
    "$$\\mathbf{p} = \\sum_{i} c_{i} \\mathbf{p}^{i}$$\n",
    "\n",
    "\n",
    "The coefficients $c_{i}$ can be obtained by requiring the residual vector to be a least-squares approximate to the zero vector \n",
    "\n",
    "$$\\Delta \\mathbf{p} = \\sum_{i} c_{i} \\Delta \\mathbf{p}^{i}$$\n",
    "\n",
    "\n",
    "constrained by,\n",
    "\n",
    "$$\\sum_{i} c_{i} =1$$\n",
    "\n",
    "\n",
    "This allows for us to to represent each trial function $p^{i}$  as the true solution plus an error vector.  \n",
    "$$\\mathbf{p} = \\sum_{i} c_{i} (\\mathbf{p}^{f} + \\mathbf{e}^{i}) = \\mathbf{p}^{f} \\sum_{i} c_{i} + \\sum_{i} c_{i} \\mathbf{e}^{i}$$\n",
    "\n",
    "Convergence will result in minimizing the error which in turn causes the second term above to vanish. For our DIIS solution $\\mathbf{p}$ to be equal to the true solution $\\mathbf{p}^{f}$, we must have $\\sum_{i} c_{i} =1$.\n",
    "\n",
    "Need to minimize the norm of the residual vector subject to the constraint\n",
    "$$ \\left \\langle \\Delta \\mathbf{p} | \\Delta \\mathbf{p} \\right \\rangle = \\sum_{ij}  c_{i}^{\\ast} c_{j} \\left \\langle \\Delta \\mathbf{p}^{i} | \\Delta \\mathbf{p}^{j} \\right \\rangle $$\n",
    "\n",
    "We can minimize using a Lagrange multiplier\n",
    "$$ \\cal L = c^{\\dagger} \\mathbf{B} c - \\lambda (1 - \\sum_{i}  c_{i})$$\n",
    "\n",
    "where B is the residual vector overlap.\n",
    "$$ B_{ij}=\\left \\langle \\Delta \\mathbf{p}^{i} | \\Delta \\mathbf{p}^{j} \\right \\rangle $$\n",
    "\n",
    "This allows for us to minimize $\\cal L$ with respect to a coeff $c_{k}$\n",
    "$$\\frac{\\partial \\cal L }{\\partial c_{k}}=0 = \\sum_{j}  c_{j} B_{kj} +  \\sum_{i}  c_{i} B_{ik} - \\lambda = 2 \\sum_{i}  c_{i} B_{ik} - \\lambda$$\n",
    "\n",
    "We can represent this with the matrix below\n",
    "\n",
    "$$\n",
    "\\begin{bmatrix}\n",
    "B_{11} & B_{12} & \\cdots  & B_{1m} & -1 & \\\\ \n",
    "B_{21} & B_{22} & \\cdots & B_{2m} & -1 & \\\\ \n",
    "\\vdots  & \\vdots  & \\ddots   & \\vdots  & \\vdots  & \\\\ \n",
    "B_{m1} & B_{m2} & \\cdots & B_{mm} & -1 & \\\\ \n",
    "-1 & -1 & \\cdots & -1 & 0 & \n",
    "\\end{bmatrix} \n",
    "\\begin{bmatrix}\n",
    "c_{1} & \\\\ \n",
    "c_{2} &   \\\\ \n",
    "\\vdots  &   \\\\ \n",
    "c_{m} &   \\\\ \n",
    "\\lambda &  \n",
    "\\end{bmatrix} \n",
    "=\n",
    "\\begin{bmatrix}\n",
    "0 & \\\\ \n",
    "0 &   \\\\ \n",
    "\\vdots &   \\\\ \n",
    "0 &   \\\\ \n",
    "-1 &  \n",
    "\\end{bmatrix} \n",
    "$$"
   ]
  },
  {
   "cell_type": "markdown",
   "metadata": {},
   "source": [
    "## Imports"
   ]
  },
  {
   "cell_type": "markdown",
   "metadata": {},
   "source": [
    "## Load Molecule"
   ]
  },
  {
   "cell_type": "code",
   "execution_count": 2,
   "metadata": {},
   "outputs": [],
   "source": [
    "# Define molecule\n",
    "mol = psi4.geometry(\"\"\"\n",
    "O 0.0000000 0.0000000 0.0000000\n",
    "H 0.7569685 0.0000000 -0.5858752\n",
    "H -0.7569685 0.0000000 -0.5858752\n",
    "symmetry c1\n",
    "\"\"\")\n",
    "psi4.set_options({'basis': 'sto-3g'})\n",
    "wfn = psi4.core.Wavefunction.build(mol, psi4.core.get_global_option('BASIS'))\n",
    "mints = psi4.core.MintsHelper(wfn.basisset())\n",
    "\n",
    "# Get number of electrons\n",
    "num_elec_alpha =  wfn.nalpha()\n",
    "num_elec_beta =  wfn.nbeta()\n",
    "num_elec = num_elec_alpha + num_elec_beta\n",
    "\n",
    "# Get nuclear repulsion energy\n",
    "E_nuc =  mol.nuclear_repulsion_energy()"
   ]
  },
  {
   "cell_type": "markdown",
   "metadata": {},
   "source": [
    "## Calculate Molecular Integrals"
   ]
  },
  {
   "cell_type": "code",
   "execution_count": 3,
   "metadata": {},
   "outputs": [
    {
     "name": "stdout",
     "output_type": "stream",
     "text": [
      "(7, 7, 7, 7)\n"
     ]
    }
   ],
   "source": [
    "# Calculate overlap integrals\n",
    "S = np.asarray(mints.ao_overlap())\n",
    "\n",
    "# Calculate kinetic energy integrals\n",
    "T = np.asarray(mints.ao_kinetic())\n",
    "\n",
    "# Calculate nuclear attraction integrals\n",
    "V = np.asarray(mints.ao_potential())\n",
    "\n",
    "# Form core Hamiltonian\n",
    "H = T + V\n",
    "\n",
    "# Calculate two electron integrals\n",
    "eri = np.asarray(mints.ao_eri())\n",
    "\n",
    "# Get number of atomic orbitals\n",
    "num_ao = np.shape(S)[0]\n",
    "\n",
    "print(np.shape(eri))"
   ]
  },
  {
   "cell_type": "markdown",
   "metadata": {},
   "source": [
    "## Core Guess"
   ]
  },
  {
   "cell_type": "code",
   "execution_count": 4,
   "metadata": {},
   "outputs": [],
   "source": [
    "# AO orthogonalization matrix \n",
    "A = spla.fractional_matrix_power(S, -0.5)\n",
    "\n",
    "# Solve the generalized eigenvalue problem\n",
    "E_orbitals, C = spla.eigh(H,S)\n",
    "\n",
    "# Compute initial density matrix\n",
    "D = np.zeros((num_ao,num_ao))\n",
    "for i in range(num_ao):\n",
    "    for j in range(num_ao):\n",
    "        for k in range(num_elec_alpha):\n",
    "            D[i,j] +=  C[i,k] * C[j,k]"
   ]
  },
  {
   "cell_type": "markdown",
   "metadata": {},
   "source": [
    "## DIIS Function\n",
    "\n",
    "### Steps in DIIS Function\n",
    "1. Build B matrix\n",
    "2. Solve the Pulay equation\n",
    "3. Build the DIIS Fock matrix"
   ]
  },
  {
   "cell_type": "code",
   "execution_count": 5,
   "metadata": {},
   "outputs": [],
   "source": [
    "def diis(F_list, diis_res):\n",
    "    # Build B matrix \n",
    "    dim_B = len(F_list) + 1\n",
    "    B = np.empty((dim_B, dim_B))\n",
    "    B[-1, :] = -1\n",
    "    B[:, -1] = -1\n",
    "    B[-1, -1] = 0\n",
    "    for i in range(len(F_list)):\n",
    "        for j in range(len(F_list)):\n",
    "            B[i, j] = np.einsum('ij,ij->', diis_res[i], diis_res[j])\n",
    "    \n",
    "    # Right hand side of Pulay eqn\n",
    "    right = np.zeros(dim_B)\n",
    "    right[-1] = -1\n",
    "\n",
    "    # Solve Pulay for coeffs\n",
    "    cn = np.linalg.solve(B, right)\n",
    "    \n",
    "    # Build DIIS Fock\n",
    "    F_diis = np.zeros_like(F_list[0])\n",
    "    for x in range(cn.shape[0] - 1):\n",
    "        F_diis += cn[x] * F_list[x]\n",
    "        \n",
    "    return F_diis"
   ]
  },
  {
   "cell_type": "markdown",
   "metadata": {},
   "source": [
    "## Variables, Criteria, and Organization"
   ]
  },
  {
   "cell_type": "code",
   "execution_count": 6,
   "metadata": {},
   "outputs": [],
   "source": [
    "# 2 helper functions for printing during SCF\n",
    "def print_start_iterations():\n",
    "    print(\"{:^79}\".format(\"{:>4}  {:>11}  {:>11}  {:>11}  {:>11}\".format(\"Iter\", \"Time(s)\", \"DIIS RMS\", \"delta E\", \"E_elec\")))\n",
    "    print(\"{:^79}\".format(\"{:>4}  {:>11}  {:>11}  {:>11}  {:>11}\".format(\"****\", \"*******\", \"*******\", \"*******\", \"******\")))\n",
    "def print_iteration(iteration_num, iteration_start_time, iteration_end_time, diis_rms, iteration_E_diff, E_elec):\n",
    "    print(\"{:^79}\".format(\"{:>4d}  {:>11f}  {:>.5E}  {:>.5E}  {:>11f}\".format(iteration_num, iteration_end_time - iteration_start_time, diis_rms, iteration_E_diff, E_elec)))\n",
    "\n",
    "# Set stopping criteria\n",
    "iteration_max = 100\n",
    "convergence_E = 1e-9\n",
    "convergence_DIIS = 1e-5\n",
    "\n",
    "# Loop variables\n",
    "iteration_num = 0\n",
    "E_total = 0\n",
    "E_elec = 0.0\n",
    "iteration_E_diff = 0.0\n",
    "iteration_rmsc_dm = 0.0\n",
    "converged = False\n",
    "exceeded_iterations = False"
   ]
  },
  {
   "cell_type": "markdown",
   "metadata": {},
   "source": [
    "## DIIS SCF Iteration\n",
    "Our trial vector will be the Fock matrix with the error vector being the orthonormalized orbital gradient.\n",
    "\n",
    "$$ r_{\\mu \\upsilon} = (\\mathbf{A^{T}}(\\mathbf{FDS} - \\mathbf{SDF}) \\mathbf{A})_{\\mu \\upsilon} $$\n",
    "\n",
    "\n",
    "### Call DIIS in SCF Iteration\n",
    "1. Build DIIS Residual (error vector) that will be used to make the B matrix\n",
    "2. Store trial and residual vectors\n",
    "3. Call DIIS to start after the first iteration\n",
    "4. Compute the next guess with the DIIS Fock matrix"
   ]
  },
  {
   "cell_type": "code",
   "execution_count": 7,
   "metadata": {
    "scrolled": true
   },
   "outputs": [
    {
     "name": "stdout",
     "output_type": "stream",
     "text": [
      "                    =====> Starting SCF Iterations <=====\n",
      "                     \n",
      "           Iter      Time(s)     DIIS RMS      delta E       E_elec            \n",
      "           ****      *******      *******      *******       ******            \n",
      "              1     0.003409  1.49013E-01  8.24274E+01   -82.427351            \n",
      "              2     0.003355  2.03413E-02  1.71341E+00   -84.140761            \n",
      "              3     0.003271  4.09380E-03  1.61315E-02   -84.156893            \n",
      "              4     0.004129  7.23932E-04  8.62038E-04   -84.157755            \n",
      "              5     0.003383  1.66275E-04  3.59959E-05   -84.157791            \n",
      "              6     0.004169  1.73151E-05  1.88455E-06   -84.157793            \n",
      "              7     0.003132  4.14841E-08  1.88806E-08   -84.157793            \n",
      "              8     0.003428  7.00273E-10  9.94760E-14   -84.157793            \n",
      "\n",
      "                          =====> SCF Converged <=====\n",
      "                          \n",
      "                          Total Energy :  -74.962929                           \n"
     ]
    }
   ],
   "source": [
    "# Trial & Residual vector lists\n",
    "F_list = []\n",
    "DIIS_resid = []\n",
    "\n",
    "print(\"{:^79}\".format('=====> Starting SCF Iterations <=====\\n'))\n",
    "print_start_iterations()\n",
    "while (not converged and not exceeded_iterations):\n",
    "    # Store last iteration and increment counters\n",
    "    iteration_start_time = time.time()\n",
    "    iteration_num += 1\n",
    "    E_elec_last = E_elec\n",
    "    D_last = np.copy(D)\n",
    "    \n",
    "    # Form G matrix\n",
    "    G = np.zeros((num_ao,num_ao))\n",
    "    for i in range(num_ao):\n",
    "        for j in range(num_ao):\n",
    "            for k in range(num_ao):\n",
    "                for l in range(num_ao):\n",
    "                    G[i,j] += D[k,l] * ((2.0*(eri[i,j,k,l])) - (eri[i,k,j,l]))\n",
    "    \n",
    "    # Build fock matrix\n",
    "    F  = H + G\n",
    "    \n",
    "    # Calculate electronic energy\n",
    "    E_elec = np.sum(np.multiply(D , (H +  F)))\n",
    "    # E_elec = np.einsum(\"pq,pq->\", (H + F), D)\n",
    "    \n",
    "    # Calculate energy change of iteration\n",
    "    iteration_E_diff = np.abs(E_elec - E_elec_last)\n",
    "    \n",
    "    #=======> Start of DIIS stuff <=========\n",
    "    # Build the DIIS AO gradient\n",
    "    diis_r = A.T @ (F @ D @ S - S @ D @ F) @ A\n",
    "    \n",
    "    # DIIS RMS\n",
    "    diis_rms = np.mean(diis_r**2)**0.5\n",
    "\n",
    "    # Append lists\n",
    "    F_list.append(F)\n",
    "    DIIS_resid.append(diis_r)\n",
    "\n",
    "    if iteration_num >=2:\n",
    "        # preform DIIS to get Fock Matrix\n",
    "        F = diis(F_list, DIIS_resid)\n",
    "    \n",
    "    # Compute new guess with F DIIS\n",
    "    E_orbitals, C = spla.eigh(F,S)\n",
    "    D = np.zeros((num_ao,num_ao))\n",
    "    for i in range(num_ao):\n",
    "        for j in range(num_ao):\n",
    "            for k in range(num_elec_alpha):\n",
    "                D[i,j] +=  C[i,k] * C[j,k]\n",
    "    \n",
    "    #=======> End of DIIS stuff <=========\n",
    "    \n",
    "    iteration_end_time = time.time()\n",
    "    print_iteration(iteration_num, iteration_start_time, iteration_end_time, \n",
    "                    diis_rms, iteration_E_diff, E_elec)\n",
    "    \n",
    "    if(np.abs(iteration_E_diff) < convergence_E and diis_rms < convergence_DIIS): \n",
    "        converged = True\n",
    "        print('\\n',\"{:^79}\".format('=====> SCF Converged <=====\\n'))\n",
    "        # calculate total energy\n",
    "        E_total = E_elec + E_nuc\n",
    "        print(\"{:^79}\".format(\"Total Energy : {:>11f}\".format(E_total)))\n",
    "    \n",
    "    if(iteration_num == iteration_max):\n",
    "        exceeded_iterations = True\n",
    "        print(\"{:^79}\".format('=====> SCF Exceded Max Iterations <=====\\n'))"
   ]
  },
  {
   "cell_type": "markdown",
   "metadata": {},
   "source": [
    "## References\n",
    "1. P. Pulay. Chem. Phys. Lett. 73, 393-398 (1980)\n",
    "2. C. David Sherrill. \"Some comments on accellerating convergence of iterative sequences using direct inversion of the iterative subspace (DIIS)\". http://vergil.chemistry.gatech.edu/notes/diis/diis.pdf. (1998)"
   ]
  }
 ],
 "metadata": {
  "kernelspec": {
   "display_name": "Python 3",
   "language": "python",
   "name": "python3"
  },
  "language_info": {
   "codemirror_mode": {
    "name": "ipython",
    "version": 3
   },
   "file_extension": ".py",
   "mimetype": "text/x-python",
   "name": "python",
   "nbconvert_exporter": "python",
   "pygments_lexer": "ipython3",
   "version": "3.6.6"
  }
 },
 "nbformat": 4,
 "nbformat_minor": 2
}
