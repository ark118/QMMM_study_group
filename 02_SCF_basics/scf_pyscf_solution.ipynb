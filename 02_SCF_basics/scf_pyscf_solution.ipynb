{
 "cells": [
  {
   "cell_type": "markdown",
   "metadata": {},
   "source": [
    "# SCF"
   ]
  },
  {
   "cell_type": "markdown",
   "metadata": {},
   "source": [
    "## Imports"
   ]
  },
  {
   "cell_type": "code",
   "execution_count": 1,
   "metadata": {},
   "outputs": [],
   "source": [
    "import numpy as np\n",
    "import scipy.linalg as spla\n",
    "import pyscf\n",
    "from pyscf import gto, scf\n",
    "import matplotlib.pyplot as plt\n",
    "import time\n",
    "%matplotlib notebook"
   ]
  },
  {
   "cell_type": "markdown",
   "metadata": {},
   "source": [
    "## Some useful resources:\n",
    " - Szabo and Ostlund Chapter 3 (for algorithm see page 146)\n",
    " - [Notes by David Sherrill](http://vergil.chemistry.gatech.edu/notes/hf-intro/hf-intro.html)\n",
    " - [Notes by Joshua Goings](http://joshuagoings.com/2013/04/24/hartree-fock-self-consistent-field-procedure/)\n",
    " - [Programming notes by Francesco Evangelista](http://www.evangelistalab.org/wp-content/uploads/2013/12/Hartree-Fock-Theory.pdf)\n",
    " - [Psi4Numpy SCF page](https://github.com/psi4/psi4numpy/tree/master/Tutorials/03_Hartree-Fock)\n",
    " - [Crawdad programming notes](http://sirius.chem.vt.edu/wiki/doku.php?id=crawdad:programming:project3)"
   ]
  },
  {
   "cell_type": "markdown",
   "metadata": {},
   "source": [
    "## The SCF algorithm from Szabo and Ostlund:\n",
    " 1. Specify a molecule (coordinates $\\{R_A\\}$, atomic numbers $\\{Z_A\\}$, number electrons $N$) and atomic orbital basis $\\{\\phi_\\mu\\}$.\n",
    " 2. Calculate molecular integrals over AOs ( overlap $S_{\\mu\\nu}$, core Hamiltonian $H^{\\mathrm{core}}_{\\mu\\nu}$, and 2  electron integrals $(\\mu \\nu | \\lambda \\sigma)$ ).\n",
    " 3. Diagonalize the overlap matrix $S$ to obtain the transformation matrix $X$.\n",
    " 4. Make a guess at the original density matrix $P$.\n",
    " 5. Calculate the intermediate matrix $G$ using the density matrix $P$ and the two electron integrals $(\\mu \\nu | \\lambda \\sigma)$.\n",
    " 6. Construct the Fock matrix $F$ from the core hamiltonian $H^{\\mathrm{core}}_{\\mu\\nu}$ and the intermediate matrix $G$.\n",
    " 7. Transform the Fock matrix $F' = X^\\dagger F X$.\n",
    " 8. Diagonalize the Fock matrix to get orbital energies $\\epsilon$ and molecular orbitals (in the transformed basis) $C'$.\n",
    " 9. Transform the molecular orbitals back to the AO basis $C = X C'$.\n",
    " 10. Form a new guess at the density matrix $P$ using $C$.\n",
    " 11. Check for convergence. (Are the changes in energy and/or density smaller than some threshold?) If not, return to step 5.\n",
    " 12. If converged, use the molecular orbitals $C$, density matrix $P$, and Fock matrix $F$ to calculate observables like the total Energy, etc."
   ]
  },
  {
   "cell_type": "markdown",
   "metadata": {},
   "source": [
    "## Quick note\n",
    "The reason we need to calculate the transformation matrix $X$ is because the atomic orbital basis is not orthonormal by default. This means without transformation we would need to solve a generalized eigenvalue problem $FC = ESC$. If we use scipy to solve this generalized eigenvalue problem we can simply the SCF algorithm.\n",
    "## Simplified SCF\n",
    " 1. Specify a molecule (coordinates $\\{R_A\\}$, atomic numbers $\\{Z_A\\}$, number electrons $N$) and atomic orbital basis $\\{\\phi_\\mu\\}$.\n",
    " 2. Calculate molecular integrals over AOs ( overlap $S_{\\mu\\nu}$, core Hamiltonian $H^{\\mathrm{core}}_{\\mu\\nu}$, and 2  electron integrals $(\\mu \\nu | \\lambda \\sigma)$ ).\n",
    " 3. Make a guess at the original density matrix $P$.\n",
    " 4. Calculate the intermediate matrix $G$ using the density matrix $P$ and the two electron integrals $(\\mu \\nu | \\lambda \\sigma)$.\n",
    " 5. Construct the Fock matrix $F$ from the core hamiltonian $H^{\\mathrm{core}}_{\\mu\\nu}$ and the intermediate matrix $G$. \n",
    " 6. Solve the generalized eigenvalue problem using the Fock matrix $F$ and the overlap matrix $S$ to get orbital energies $\\epsilon$ and molecular orbitals.\n",
    " 7. Form a new guess at the density matrix $P$ using $C$.\n",
    " 8. Check for convergence. (Are the changes in energy and/or density smaller than some threshold?) If not, return to step 4.\n",
    " 9. If converged, use the molecular orbitals $C$, density matrix $P$, and Fock matrix $F$ to calculate observables like the total Energy, etc.\n"
   ]
  },
  {
   "cell_type": "markdown",
   "metadata": {},
   "source": [
    "# STEP 1 : Specify the molecule"
   ]
  },
  {
   "cell_type": "code",
   "execution_count": 2,
   "metadata": {},
   "outputs": [],
   "source": [
    "# start timer\n",
    "start_time = time.time()\n",
    "# define molecule\n",
    "mol = pyscf.gto.M(\n",
    "    atom=\"O 0.0000000 0.0000000 0.0000000; H 0.7569685 0.0000000 -0.5858752; H -0.7569685 0.0000000 -0.5858752\",\n",
    "    basis='sto-3g',\n",
    "    unit = \"Ang\",\n",
    "    verbose=0,\n",
    "    symmetry=False,\n",
    "    spin = 0,\n",
    "    charge = 0\n",
    ")\n",
    "# get number of atomic orbitals\n",
    "num_ao = mol.nao_nr()\n",
    "# get number of electrons\n",
    "num_elec_alpha, num_elec_beta = mol.nelec\n",
    "num_elec = num_elec_alpha + num_elec_beta\n",
    "# get nuclear repulsion energy\n",
    "E_nuc = mol.energy_nuc()"
   ]
  },
  {
   "cell_type": "markdown",
   "metadata": {},
   "source": [
    "# STEP 2 : Calculate molecular integrals \n",
    "\n",
    "Overlap \n",
    "\n",
    "$$ S_{\\mu\\nu} = (\\mu|\\nu) = \\int dr \\phi^*_{\\mu}(r) \\phi_{\\nu}(r) $$\n",
    "\n",
    "Kinetic\n",
    "\n",
    "$$ T_{\\mu\\nu} = (\\mu\\left|-\\frac{\\nabla}{2}\\right|\\nu) = \\int dr \\phi^*_{\\mu}(r) \\left(-\\frac{\\nabla}{2}\\right) \\phi_{\\nu}(r) $$\n",
    "\n",
    "Nuclear Attraction\n",
    "\n",
    "$$ V_{\\mu\\nu} = (\\mu|r^{-1}|\\nu) = \\int dr \\phi^*_{\\mu}(r) r^{-1} \\phi_{\\nu}(r) $$\n",
    "\n",
    "Form Core Hamiltonian\n",
    "\n",
    "$$ H = T + V $$\n",
    "\n",
    "Two electron integrals\n",
    "\n",
    "$$ (\\mu\\nu|\\lambda\\sigma) = \\int dr_1 dr_2 \\phi^*_{\\mu}(r_1) \\phi_{\\nu}(r_1) r_{12}^{-1} \\phi_{\\lambda}(r_2) \\phi_{\\sigma}(r_2) $$\n"
   ]
  },
  {
   "cell_type": "code",
   "execution_count": 3,
   "metadata": {},
   "outputs": [
    {
     "name": "stdout",
     "output_type": "stream",
     "text": [
      "(406,)\n"
     ]
    }
   ],
   "source": [
    "# calculate overlap integrals\n",
    "S = mol.intor('cint1e_ovlp_sph')\n",
    "# calculate kinetic energy integrals\n",
    "T = mol.intor('cint1e_kin_sph')\n",
    "# calculate nuclear attraction integrals\n",
    "V = mol.intor('cint1e_nuc_sph')\n",
    "# form core Hamiltonian\n",
    "H = T + V\n",
    "# calculate two electron integrals\n",
    "eri = mol.intor('cint2e_sph',aosym='s8')\n",
    "# since we are using the 8 fold symmetry of the 2 electron integrals\n",
    "# the functions below will help us when accessing elements\n",
    "__idx2_cache = {}\n",
    "def idx2(i, j):\n",
    "    if (i, j) in __idx2_cache:\n",
    "        return __idx2_cache[i, j]\n",
    "    elif i >= j:\n",
    "        __idx2_cache[i, j] = int(i*(i+1)/2+j)\n",
    "    else:\n",
    "        __idx2_cache[i, j] = int(j*(j+1)/2+i)\n",
    "    return __idx2_cache[i, j]\n",
    "def idx4(i, j, k, l):\n",
    "    return idx2(idx2(i, j), idx2(k, l))\n",
    "\n",
    "print(np.shape(eri))"
   ]
  },
  {
   "cell_type": "markdown",
   "metadata": {},
   "source": [
    "# STEP 3 : Form guess density matrix"
   ]
  },
  {
   "cell_type": "code",
   "execution_count": 4,
   "metadata": {},
   "outputs": [],
   "source": [
    "# set inital density matrix to zero\n",
    "D = np.zeros((num_ao,num_ao))"
   ]
  },
  {
   "cell_type": "markdown",
   "metadata": {},
   "source": [
    "# STEPS 4 - 8 : SCF loop\n",
    "\n",
    " 4. Calculate the intermediate matrix $G$ using the density matrix $P$ and the two electron integrals $(\\mu \\nu | \\lambda \\sigma)$.\n",
    " \n",
    " $$G_{\\mu\\nu} = \\sum_{\\lambda\\sigma}^{\\mathrm{num\\_ao}} P_{\\lambda \\sigma}[2(\\mu\\nu|\\lambda\\sigma)-(\\mu\\lambda|\\nu\\sigma)]$$ \n",
    " \n",
    " 5. Construct the Fock matrix $F$ from the core hamiltonian $H^{\\mathrm{core}}_{\\mu\\nu}$ and the intermediate matrix $G$. \n",
    " \n",
    " $$ F = H + G $$\n",
    " \n",
    " 6. Solve the generalized eigenvalue problem using the Fock matrix $F$ and the overlap matrix $S$ to get orbital energies $\\epsilon$ and molecular orbitals.\n",
    " \n",
    " $$F C  = E  S C $$\n",
    " \n",
    " 7. Form a new guess at the density matrix $P$ using $C$.\n",
    " \n",
    " $$ P_{\\mu\\nu} = \\sum_{i}^{\\mathrm{num\\_elec}/2} C_{\\mu i} C_{\\nu i} $$\n",
    " \n",
    " 8. Check for convergence. (Are the changes in energy and/or density smaller than some threshold?) If not, return to step 4.\n",
    " \n",
    " $$ E_{\\mathrm{elec}}  = \\sum^{\\mathrm{num\\_ao}}_{\\mu\\nu} P_{\\mu\\nu} (H_{\\mu\\nu} + F_{\\mu\\nu})  $$\n",
    " $$ \\Delta E = E_{\\mathrm{new}} - E_{\\mathrm{old}} $$\n",
    " $$ |\\Delta P| = \\left[ \\sum^{\\mathrm{num\\_ao}}_{\\mu\\nu} [P^{\\mathrm{new}}_{\\mu\\nu} - P_{\\mu\\nu}^{\\mathrm{old}}]^2 \\right]^{1/2}$$\n",
    " \n",
    " 9. If converged, use the molecular orbitals $C$, density matrix $P$, and Fock matrix $F$ to calculate observables like the total Energy, etc.\n",
    " \n",
    " $$ E_{\\mathrm{total}} = V_{\\mathrm{NN}} + E_{\\mathrm{elec}} $$"
   ]
  },
  {
   "cell_type": "code",
   "execution_count": 5,
   "metadata": {},
   "outputs": [],
   "source": [
    "# 2 helper functions for printing during SCF\n",
    "def print_start_iterations():\n",
    "    print(\"{:^79}\".format(\"{:>4}  {:>11}  {:>11}  {:>11}  {:>11}\".format(\"Iter\", \"Time(s)\", \"RMSC DM\", \"delta E\", \"E_elec\")))\n",
    "    print(\"{:^79}\".format(\"{:>4}  {:>11}  {:>11}  {:>11}  {:>11}\".format(\"****\", \"*******\", \"*******\", \"*******\", \"******\")))\n",
    "def print_iteration(iteration_num, iteration_start_time, iteration_end_time, iteration_rmsc_dm, iteration_E_diff, E_elec):\n",
    "    print(\"{:^79}\".format(\"{:>4d}  {:>11f}  {:>.5E}  {:>.5E}  {:>11f}\".format(iteration_num, iteration_end_time - iteration_start_time, iteration_rmsc_dm, iteration_E_diff, E_elec)))\n",
    "\n",
    "# set stopping criteria\n",
    "iteration_max = 100\n",
    "convergence_E = 1e-9\n",
    "convergence_DM = 1e-5\n",
    "# loop variables\n",
    "iteration_num = 0\n",
    "E_total = 0\n",
    "E_elec = 0.0\n",
    "iteration_E_diff = 0.0\n",
    "iteration_rmsc_dm = 0.0\n",
    "converged = False\n",
    "exceeded_iterations = False\n"
   ]
  },
  {
   "cell_type": "code",
   "execution_count": 6,
   "metadata": {},
   "outputs": [
    {
     "name": "stdout",
     "output_type": "stream",
     "text": [
      "           Iter      Time(s)      RMSC DM      delta E       E_elec            \n",
      "           ****      *******      *******      *******       ******            \n",
      "              1     0.011996  2.69561E+00  1.27367E+02  -127.366748            \n",
      "              2     0.007442  1.84626E+00  4.69671E+01   -80.399634            \n",
      "              3     0.008565  1.84892E-01  4.07021E+00   -84.469843            \n",
      "              4     0.009809  3.65179E-02  3.36584E-01   -84.133260            \n",
      "              5     0.007411  1.41819E-02  2.77766E-02   -84.161036            \n",
      "              6     0.007380  5.65413E-03  2.81184E-03   -84.158224            \n",
      "              7     0.007021  2.37192E-03  1.60719E-04   -84.158064            \n",
      "              8     0.007420  1.00945E-03  1.58481E-04   -84.157905            \n",
      "              9     0.007784  4.33408E-04  6.31723E-05   -84.157842            \n",
      "             10     0.007360  1.86875E-04  2.79308E-05   -84.157814            \n",
      "             11     0.007585  8.07615E-05  1.20778E-05   -84.157802            \n",
      "             12     0.007304  3.49458E-05  5.23652E-06   -84.157797            \n",
      "             13     0.008184  1.51315E-05  2.26871E-06   -84.157794            \n",
      "             14     0.007472  6.55436E-06  9.83028E-07   -84.157794            \n",
      "             15     0.007244  2.83969E-06  4.25957E-07   -84.157793            \n",
      "             16     0.007126  1.23045E-06  1.84580E-07   -84.157793            \n",
      "             17     0.007659  5.33191E-07  7.99869E-08   -84.157793            \n",
      "             18     0.007142  2.31057E-07  3.46625E-08   -84.157793            \n",
      "             19     0.007725  1.00130E-07  1.50213E-08   -84.157793            \n",
      "             20     0.007599  4.33923E-08  6.50965E-09   -84.157793            \n",
      "             21     0.007362  1.88046E-08  2.82108E-09   -84.157793            \n",
      "             22     0.007294  8.14927E-09  1.22253E-09   -84.157793            \n",
      "             23     0.006899  3.53162E-09  5.29852E-10   -84.157793            \n"
     ]
    }
   ],
   "source": [
    "print_start_iterations()\n",
    "while (not converged and not exceeded_iterations):\n",
    "    # store last iteration and increment counters\n",
    "    iteration_start_time = time.time()\n",
    "    iteration_num += 1\n",
    "    E_elec_last = E_elec\n",
    "    D_last = np.copy(D)\n",
    "    # form G matrix\n",
    "    G = np.zeros((num_ao,num_ao))\n",
    "    for i in range(num_ao):\n",
    "        for j in range(num_ao):\n",
    "            for k in range(num_ao):\n",
    "                for l in range(num_ao):\n",
    "                    G[i,j] += D[k,l] * ((2.0*(eri[idx4(i,j,k,l)])) - (eri[idx4(i,k,j,l)]))\n",
    "    # build fock matrix\n",
    "    F  = H + G\n",
    "    # solve the generalized eigenvalue problem\n",
    "    E_orbitals, C = spla.eigh(F,S)\n",
    "    # compute new density matrix\n",
    "    D = np.zeros((num_ao,num_ao))\n",
    "    for i in range(num_ao):\n",
    "        for j in range(num_ao):\n",
    "            for k in range(num_elec_alpha):\n",
    "                D[i,j] +=  C[i,k] * C[j,k]\n",
    "    # calculate electronic energy\n",
    "    E_elec = np.sum(np.multiply(D , (H +  F)))\n",
    "    # calculate energy change of iteration\n",
    "    iteration_E_diff = np.abs(E_elec - E_elec_last)\n",
    "    # rms change of density matrix\n",
    "    iteration_rmsc_dm = np.sqrt(np.sum((D - D_last)**2))\n",
    "    iteration_end_time = time.time()\n",
    "    print_iteration(iteration_num, iteration_start_time, iteration_end_time, iteration_rmsc_dm, iteration_E_diff, E_elec)\n",
    "    if(np.abs(iteration_E_diff) < convergence_E and iteration_rmsc_dm < convergence_DM): \n",
    "        converged = True\n",
    "    if(iteration_num == iteration_max):\n",
    "        exceeded_iterations = True\n",
    "    "
   ]
  },
  {
   "cell_type": "markdown",
   "metadata": {},
   "source": [
    "# STEP 9 : Calculate Observables"
   ]
  },
  {
   "cell_type": "code",
   "execution_count": 7,
   "metadata": {},
   "outputs": [],
   "source": [
    "# calculate total energy\n",
    "E_total = E_elec + E_nuc"
   ]
  },
  {
   "cell_type": "code",
   "execution_count": 8,
   "metadata": {},
   "outputs": [
    {
     "name": "stdout",
     "output_type": "stream",
     "text": [
      "                          Total Energy :  -74.962929                           \n"
     ]
    }
   ],
   "source": [
    "print(\"{:^79}\".format(\"Total Energy : {:>11f}\".format(E_total)))"
   ]
  }
 ],
 "metadata": {
  "kernelspec": {
   "display_name": "Python 3",
   "language": "python",
   "name": "python3"
  },
  "language_info": {
   "codemirror_mode": {
    "name": "ipython",
    "version": 3
   },
   "file_extension": ".py",
   "mimetype": "text/x-python",
   "name": "python",
   "nbconvert_exporter": "python",
   "pygments_lexer": "ipython3",
   "version": "3.6.6"
  }
 },
 "nbformat": 4,
 "nbformat_minor": 2
}
